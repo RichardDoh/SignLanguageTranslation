{
  "nbformat": 4,
  "nbformat_minor": 0,
  "metadata": {
    "colab": {
      "private_outputs": true,
      "provenance": [],
      "toc_visible": true,
      "gpuType": "L4"
    },
    "kernelspec": {
      "name": "python3",
      "display_name": "Python 3"
    },
    "language_info": {
      "name": "python"
    },
    "accelerator": "GPU"
  },
  "cells": [
    {
      "cell_type": "code",
      "execution_count": null,
      "metadata": {
        "id": "84t-S1Gm-tsP"
      },
      "outputs": [],
      "source": [
        "#clone git repository\n",
        "!git clone https://github.com/ultralytics/ultralytics.git"
      ]
    },
    {
      "cell_type": "code",
      "source": [
        "!pip install ultralytics\n"
      ],
      "metadata": {
        "id": "FYE6DAKkCB3o"
      },
      "execution_count": null,
      "outputs": []
    },
    {
      "cell_type": "code",
      "source": [
        "!pip install rarfile"
      ],
      "metadata": {
        "id": "B05kF93eOYf2"
      },
      "execution_count": null,
      "outputs": []
    },
    {
      "cell_type": "code",
      "source": [
        "import rarfile\n",
        "import os\n",
        "\n",
        "# Specify the path to your .rar dataset\n",
        "rar_file_path = '/content/Data.rar'\n",
        "extract_folder = '/content'\n",
        "\n",
        "# Create a directory to extract the files\n",
        "os.makedirs(extract_folder, exist_ok=True)\n",
        "\n",
        "# Unrar the dataset\n",
        "with rarfile.RarFile(rar_file_path) as rf:\n",
        "    rf.extractall(path=extract_folder)\n",
        "\n",
        "print(\"Dataset unrarred successfully!\")\n"
      ],
      "metadata": {
        "id": "ea4RHFENOYcR"
      },
      "execution_count": null,
      "outputs": []
    },
    {
      "cell_type": "code",
      "source": [
        "!pip install ultralytics\n"
      ],
      "metadata": {
        "id": "4wpSN_AEOYhz"
      },
      "execution_count": null,
      "outputs": []
    },
    {
      "cell_type": "code",
      "source": [
        "import torch\n",
        "\n"
      ],
      "metadata": {
        "id": "2aLjOckdOYjr"
      },
      "execution_count": null,
      "outputs": []
    },
    {
      "cell_type": "code",
      "source": [
        "# install dependencies as necessary\n",
        "!pip install -qr requirements.txt  # install dependencies (ignore errors)\n",
        "import torch\n",
        "\n",
        "from IPython.display import Image, clear_output  # to display images\n",
        "# from utils.google_utils import gdrive_download  # to download models/datasets\n",
        "\n",
        "# clear_output()\n",
        "print('Setup complete. Using torch %s %s' % (torch.__version__, torch.cuda.get_device_properties(0) if torch.cuda.is_available() else 'CPU'))\n",
        ""
      ],
      "metadata": {
        "id": "3JGhADjIOYoW"
      },
      "execution_count": null,
      "outputs": []
    },
    {
      "cell_type": "code",
      "source": [
        "# define number of classes based on YAML\n",
        "import yaml\n",
        "with open(\"data.yaml\", 'r') as stream:\n",
        "    num_classes = str(yaml.safe_load(stream)['nc'])"
      ],
      "metadata": {
        "id": "go_1Ux_GOYqb"
      },
      "execution_count": null,
      "outputs": []
    },
    {
      "cell_type": "code",
      "source": [
        "num_classes"
      ],
      "metadata": {
        "id": "pjuo9sDsOYsX"
      },
      "execution_count": null,
      "outputs": []
    },
    {
      "cell_type": "code",
      "source": [
        "# Git clone and run tests on updates branch\n",
        "!git clone https://github.com/ultralytics/ultralytics -b main\n",
        "%pip install -qe ultralytics"
      ],
      "metadata": {
        "id": "Bk4UU6-cOYwT"
      },
      "execution_count": null,
      "outputs": []
    },
    {
      "cell_type": "code",
      "source": [
        "import os\n",
        "HOME = os.getcwd()\n",
        "print(HOME)\n"
      ],
      "metadata": {
        "id": "H4eoVKzIuuEG"
      },
      "execution_count": null,
      "outputs": []
    },
    {
      "cell_type": "code",
      "source": [
        "%cd {HOME}\n",
        "\n",
        "!yolo task=detect mode=train model=yolo11s.pt data= ../data.yaml epochs=10 imgsz=640 plots=True"
      ],
      "metadata": {
        "id": "Z7Db7qgCFr4N"
      },
      "execution_count": null,
      "outputs": []
    },
    {
      "cell_type": "code",
      "source": [
        "!ls {HOME}/runs/detect/train/"
      ],
      "metadata": {
        "id": "HzygpJWAVHho"
      },
      "execution_count": null,
      "outputs": []
    },
    {
      "cell_type": "code",
      "source": [],
      "metadata": {
        "id": "5hssBRosVHu_"
      },
      "execution_count": null,
      "outputs": []
    }
  ]
}